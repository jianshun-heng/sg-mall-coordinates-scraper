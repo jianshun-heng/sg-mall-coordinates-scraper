{
 "cells": [
  {
   "cell_type": "markdown",
   "metadata": {},
   "source": [
    "<h1> Scraper for Shopping Malls in SG </h1>"
   ]
  },
  {
   "cell_type": "markdown",
   "metadata": {},
   "source": [
    "<h3> Scraping Malls from Wikipedia </h3>\n",
    "<p> This is a simple webscraper to scrape the list of shopping malls off wikipedia.</p>"
   ]
  },
  {
   "cell_type": "code",
   "execution_count": 275,
   "metadata": {
    "tags": []
   },
   "outputs": [],
   "source": [
    "# Import libraries\n",
    "from bs4 import BeautifulSoup\n",
    "import requests\n",
    "import re\n",
    "import pandas as pd"
   ]
  },
  {
   "cell_type": "code",
   "execution_count": 2,
   "metadata": {
    "tags": []
   },
   "outputs": [],
   "source": [
    "url = \"https://en.wikipedia.org/wiki/List_of_shopping_malls_in_Singapore\"\n",
    "response = requests.get(url, timeout = 5)\n",
    "content = BeautifulSoup(response.content, \"html.parser\")"
   ]
  },
  {
   "cell_type": "code",
   "execution_count": 244,
   "metadata": {
    "tags": []
   },
   "outputs": [],
   "source": [
    "# Parse HTML\n",
    "soup = BeautifulSoup(response.content, \"html.parser\")\n",
    "\n",
    "# Find the 2nd <tbody> tag that contains all malls\n",
    "tbody_tag = soup.find_all('tbody')[1]\n",
    "\n",
    "# Check within <tbody> tag\n",
    "if tbody_tag:\n",
    "    \n",
    "    # Iterate over <th> tags within <tbody>\n",
    "    for th_tag in tbody_tag.find_all('th'):\n",
    "        # Remove entire <tr> if \"Demolished\" or \"Under construction\" is in the string for <th> text\n",
    "        if any(keyword in th_tag.get_text() for keyword in ['Demolished', 'Under construction']):\n",
    "            # Extract the parent <tr> tag and remove it\n",
    "            tr_tag = th_tag.find_parent('tr')\n",
    "            tr_tag.extract()\n",
    "            \n",
    "    # Remove <th> and <tr> lines now\n",
    "    for th_tag in tbody_tag.find_all('th'):\n",
    "        # Remove the th_tag\n",
    "        th_tag.extract()\n",
    "\n",
    "# Extract all relevant malls\n",
    "mall_list_html = tbody_tag.find_all(\"ul\")\n",
    "\n",
    "# Turn it into a mall beautiful soup and extract into list\n",
    "mall_soup = BeautifulSoup(''.join(str(tag) for tag in list(mall_list_html)))\n",
    "mall_elements = mall_soup.find_all('li')"
   ]
  },
  {
   "cell_type": "code",
   "execution_count": 254,
   "metadata": {
    "tags": []
   },
   "outputs": [
    {
     "data": {
      "text/plain": [
       "['HARBOURFRONT CENTRE',\n",
       " 'NORTHPOINT CITY',\n",
       " 'SUNTEC CITY MALL',\n",
       " 'CATHAY CINELEISURE ORCHARD',\n",
       " 'HEARTLAND MALL',\n",
       " '100 AM',\n",
       " 'YEW TEE SQUARE',\n",
       " 'SUNSHINE PLACE',\n",
       " 'YEW TEE POINT',\n",
       " 'THE CATHAY',\n",
       " 'SIM LIM SQUARE',\n",
       " 'CHANGI CITY POINT',\n",
       " '313@SOMERSET',\n",
       " 'JUNCTION 10',\n",
       " 'ION ORCHARD',\n",
       " 'CITY SQUARE MALL',\n",
       " 'THE RAIL MALL',\n",
       " 'EASTPOINT MALL',\n",
       " 'MARINA BAY LINK MALL',\n",
       " 'MARINA SQUARE',\n",
       " '888 PLAZA',\n",
       " 'BUGIS+',\n",
       " 'COMPASS ONE',\n",
       " 'GEK POH SHOPPING CENTRE',\n",
       " 'TIONG BAHRU PLAZA',\n",
       " 'ESPLANADE MALL',\n",
       " 'SINGPOST CENTRE',\n",
       " 'PARKWAY PARADE',\n",
       " 'MYVILLAGE @ SERANGOON',\n",
       " 'DJITSUN MALL BEDOK',\n",
       " 'LUCKY PLAZA',\n",
       " 'TAMPINES MART',\n",
       " 'THE PARAGON',\n",
       " 'THE WOODLEIGH MALL',\n",
       " 'TAMPINES MALL',\n",
       " 'DAWSON PLACE',\n",
       " 'PLQ MALL',\n",
       " 'WOODLANDS NORTH PLAZA',\n",
       " 'CLAYMORE CONNECT',\n",
       " 'SQUARE 2',\n",
       " 'RIVERVALE PLAZA',\n",
       " 'CLEMENTI MALL',\n",
       " 'JEWEL CHANGI AIRPORT',\n",
       " 'HILLION MALL',\n",
       " 'PLAZA SINGAPURA',\n",
       " 'WESTGATE',\n",
       " 'LEISURE PARK KALLANG',\n",
       " 'BEDOK MALL',\n",
       " 'JURONG POINT',\n",
       " 'CENTURY SQUARE',\n",
       " 'FU LU SHOU COMPLEX',\n",
       " 'ANCHORPOINT',\n",
       " 'QUEENSWAY SHOPPING CENTRE',\n",
       " '600 @ TOA PAYOH',\n",
       " 'THE STAR VISTA',\n",
       " 'WHITE SANDS',\n",
       " 'PUNGGOL PLAZA',\n",
       " 'THE SHOPPES AT MARINA BAY SANDS',\n",
       " 'MUSTAFA CENTRE',\n",
       " 'BUANGKOK SQUARE',\n",
       " 'BEAUTY WORLD CENTRE',\n",
       " 'LOT ONE',\n",
       " 'ALEXANDRA RETAIL CENTRE',\n",
       " 'ORCHARD GATEWAY',\n",
       " 'HDB HUB',\n",
       " 'THOMSON PLAZA',\n",
       " 'AMK HUB',\n",
       " \"PEOPLE'S PARK COMPLEX\",\n",
       " 'HOUGANG RIVERCOURT',\n",
       " 'NORTHSHORE PLAZA',\n",
       " 'HOLLAND PIAZZA',\n",
       " 'VALLEY POINT',\n",
       " 'UPPER SERANGOON SHOPPING CENTRE',\n",
       " 'JEM',\n",
       " 'FORUM THE SHOPPING MALL',\n",
       " 'DJITSUN MALL',\n",
       " 'ORCHARD TOWERS',\n",
       " 'OUR TAMPINES HUB',\n",
       " 'TAMAN JURONG SHOPPING CENTRE',\n",
       " 'NGEE ANN CITY',\n",
       " 'CAPITOL SINGAPORE',\n",
       " 'TEKKA CENTRE',\n",
       " 'INTERNATIONAL PLAZA',\n",
       " 'WEST COAST PLAZA',\n",
       " 'ORCHARD CENTRAL',\n",
       " 'ROCHESTER MALL',\n",
       " 'KALLANG WAVE MALL',\n",
       " 'DEPOT HEIGHTS SHOPPING CENTRE',\n",
       " 'SEMBAWANG SHOPPING CENTRE',\n",
       " 'NOVENA SQUARE',\n",
       " 'SIM LIM TOWER',\n",
       " 'FAR EAST PLAZA',\n",
       " 'BEAUTY WORLD PLAZA',\n",
       " 'TAMPINES 1',\n",
       " 'JUNCTION NINE',\n",
       " 'WISTERIA MALL',\n",
       " 'SUN PLAZA',\n",
       " 'KINEX',\n",
       " 'FAIRPRICE HUB',\n",
       " 'CITY VIBE',\n",
       " 'PAYA LEBAR SQUARE',\n",
       " 'SHAW HOUSE AND CENTRE',\n",
       " 'GREENRIDGE SHOPPING CENTRE',\n",
       " 'GV YISHUN',\n",
       " 'ERA APAC CENTRE',\n",
       " 'CANBERRA PLAZA',\n",
       " 'HOUGANG 1',\n",
       " 'HOUGANG MALL',\n",
       " 'WISMA ATRIA',\n",
       " 'IMM',\n",
       " 'UNITED SQUARE',\n",
       " 'JUNCTION 8',\n",
       " 'PALAIS RENAISSANCE',\n",
       " 'THE MAJESTIC',\n",
       " 'PASIR RIS WEST PLAZA',\n",
       " 'WEST MALL',\n",
       " 'GOLDEN MILE COMPLEX',\n",
       " 'KATONG SHOPPING CENTRE',\n",
       " 'ELIAS MALL',\n",
       " 'TEKKA PLACE',\n",
       " 'MILLENIA WALK',\n",
       " 'GREAT WORLD',\n",
       " 'I12 KATONG',\n",
       " 'LOYANG POINT',\n",
       " 'RIVERVALE MALL',\n",
       " 'PENINSULA PLAZA',\n",
       " 'WATERWAY POINT',\n",
       " 'FUNAN',\n",
       " 'OASIS TERRACES',\n",
       " 'CLARKE QUAY CENTRAL',\n",
       " 'CITYLINK MALL',\n",
       " 'VIVOCITY',\n",
       " 'CHINATOWN POINT',\n",
       " 'WHEELOCK PLACE',\n",
       " 'NEX',\n",
       " 'ONE RAFFLES PLACE',\n",
       " 'SENGKANG GRAND MALL',\n",
       " 'FAJAR SHOPPING CENTRE',\n",
       " 'PIONEER MALL',\n",
       " \"PEOPLE'S PARK CENTRE\",\n",
       " 'BUGIS JUNCTION',\n",
       " 'LIMBANG SHOPPING CENTRE',\n",
       " 'BUKIT PANJANG PLAZA',\n",
       " 'SELETAR MALL',\n",
       " 'ADMIRALTY PLACE',\n",
       " 'WISMA GEYLANG SERAI',\n",
       " 'WOODLANDS MART',\n",
       " 'SOUTH BEACH',\n",
       " 'THE CENTREPOINT',\n",
       " 'MANDARIN GALLERY',\n",
       " 'RAFFLES CITY',\n",
       " 'CHANGE ALLEY',\n",
       " 'TANG PLAZA',\n",
       " '321 CLEMENTI',\n",
       " 'HOLLAND ROAD SHOPPING CENTRE',\n",
       " 'CAUSEWAY POINT',\n",
       " 'VISTA POINT']"
      ]
     },
     "execution_count": 254,
     "metadata": {},
     "output_type": "execute_result"
    }
   ],
   "source": [
    "# Extract mall name\n",
    "malls = []\n",
    "\n",
    "for node in mall_elements:\n",
    "    mallName = \"\".join(node.findAll(string = True))\n",
    "    if len(mallName) > 1:\n",
    "        malls.append(\"\".join(node.findAll(string = True)))\n",
    "malls = set(malls)\n",
    "\n",
    "# Set upper case on all malls\n",
    "malls = [element.upper() for element in malls]\n",
    "malls"
   ]
  },
  {
   "cell_type": "markdown",
   "metadata": {},
   "source": [
    "<h3> Use OneMap API for Mall Coordinates </h3>"
   ]
  },
  {
   "cell_type": "code",
   "execution_count": 255,
   "metadata": {
    "tags": []
   },
   "outputs": [],
   "source": [
    "# Function to get latitude and longitude from onemap api\n",
    "def get_coordinates(location):\n",
    "    searchQuery = f\"https://developers.onemap.sg/commonapi/search?searchVal={location}&returnGeom=Y&getAddrDetails=Y\"\n",
    "    response = requests.get(searchQuery)\n",
    "    \n",
    "    try:\n",
    "        result = response.json()['results'][0]\n",
    "        latitude = result['LATITUDE']\n",
    "        longitude = result['LONGITUDE']\n",
    "        return [latitude, longitude]\n",
    "    except: \n",
    "        return 'INVALID LOCATION'"
   ]
  },
  {
   "cell_type": "code",
   "execution_count": 256,
   "metadata": {
    "tags": []
   },
   "outputs": [],
   "source": [
    "# Function to search latitude and longitude for all names in a list\n",
    "def searchOneMap(locationList):\n",
    "    lat_long_locations = []\n",
    "    invalid_locations = []\n",
    "    for location in locationList:\n",
    "        lat_long = get_coordinates(location)\n",
    "        if lat_long != 'INVALID LOCATION': \n",
    "            location_details = {}\n",
    "            location_details['name'] = location\n",
    "            location_details['latitude'] = lat_long[0]\n",
    "            location_details['longitude'] = lat_long[1]\n",
    "            lat_long_locations.append(location_details)\n",
    "        else:\n",
    "            invalid_locations.append(location)\n",
    "    return [lat_long_locations, invalid_locations]"
   ]
  },
  {
   "cell_type": "code",
   "execution_count": 257,
   "metadata": {
    "tags": []
   },
   "outputs": [],
   "source": [
    "# Retrieve lat long of malls\n",
    "result = searchOneMap(malls)\n",
    "mall_lat_long = result[0]\n",
    "missing_malls = result[1]"
   ]
  },
  {
   "cell_type": "code",
   "execution_count": 258,
   "metadata": {
    "tags": []
   },
   "outputs": [
    {
     "data": {
      "text/plain": [
       "['CITY VIBE',\n",
       " 'SHAW HOUSE AND CENTRE',\n",
       " 'CLARKE QUAY CENTRAL',\n",
       " 'MANDARIN GALLERY',\n",
       " 'CHANGE ALLEY']"
      ]
     },
     "execution_count": 258,
     "metadata": {},
     "output_type": "execute_result"
    }
   ],
   "source": [
    "# View missing malls\n",
    "missing_malls"
   ]
  },
  {
   "cell_type": "code",
   "execution_count": 264,
   "metadata": {
    "tags": []
   },
   "outputs": [],
   "source": [
    "# Manually search for missing malls\n",
    "def addLocationToList(locationList, mall, lat, long):\n",
    "    location_details = {}\n",
    "    location_details['name'] = mall\n",
    "    location_details['latitude'] = lat\n",
    "    location_details['longitude'] = long\n",
    "    locationList.append(location_details)"
   ]
  },
  {
   "cell_type": "code",
   "execution_count": 265,
   "metadata": {
    "tags": []
   },
   "outputs": [],
   "source": [
    "# Add missing locations\n",
    "addLocationToList(mall_lat_long, 'CITY VIBE', '1.3142420326981248', '103.76527744903247')\n",
    "addLocationToList(mall_lat_long, 'SHAW HOUSE AND CENTRE', '1.3063028918746467', '103.83184664246109')\n",
    "addLocationToList(mall_lat_long, 'CLARKE QUAY CENTRAL', '1.2890266594142623', '103.84660800577113')\n",
    "addLocationToList(mall_lat_long, 'MANDARIN GALLERY', '1.302089565417662', '103.83634054158641')\n",
    "addLocationToList(mall_lat_long, 'CHANGE ALLEY', '1.2844197208580772', '103.8518214747385')"
   ]
  },
  {
   "cell_type": "code",
   "execution_count": 276,
   "metadata": {
    "tags": []
   },
   "outputs": [],
   "source": [
    "# Convert to malls_lat_long to pandas dataframe\n",
    "df_malls = pd.DataFrame(mall_lat_long)"
   ]
  },
  {
   "cell_type": "code",
   "execution_count": 277,
   "metadata": {
    "tags": []
   },
   "outputs": [
    {
     "data": {
      "text/html": [
       "<div>\n",
       "<style scoped>\n",
       "    .dataframe tbody tr th:only-of-type {\n",
       "        vertical-align: middle;\n",
       "    }\n",
       "\n",
       "    .dataframe tbody tr th {\n",
       "        vertical-align: top;\n",
       "    }\n",
       "\n",
       "    .dataframe thead th {\n",
       "        text-align: right;\n",
       "    }\n",
       "</style>\n",
       "<table border=\"1\" class=\"dataframe\">\n",
       "  <thead>\n",
       "    <tr style=\"text-align: right;\">\n",
       "      <th></th>\n",
       "      <th>name</th>\n",
       "      <th>latitude</th>\n",
       "      <th>longitude</th>\n",
       "    </tr>\n",
       "  </thead>\n",
       "  <tbody>\n",
       "    <tr>\n",
       "      <th>0</th>\n",
       "      <td>HARBOURFRONT CENTRE</td>\n",
       "      <td>1.26206336410344</td>\n",
       "      <td>103.818732564507</td>\n",
       "    </tr>\n",
       "    <tr>\n",
       "      <th>1</th>\n",
       "      <td>NORTHPOINT CITY</td>\n",
       "      <td>1.42822560922688</td>\n",
       "      <td>103.836419992398</td>\n",
       "    </tr>\n",
       "    <tr>\n",
       "      <th>2</th>\n",
       "      <td>SUNTEC CITY MALL</td>\n",
       "      <td>1.29350132535558</td>\n",
       "      <td>103.857307495824</td>\n",
       "    </tr>\n",
       "    <tr>\n",
       "      <th>3</th>\n",
       "      <td>CATHAY CINELEISURE ORCHARD</td>\n",
       "      <td>1.30146393496315</td>\n",
       "      <td>103.836463810773</td>\n",
       "    </tr>\n",
       "    <tr>\n",
       "      <th>4</th>\n",
       "      <td>HEARTLAND MALL</td>\n",
       "      <td>1.35954177325561</td>\n",
       "      <td>103.885167372726</td>\n",
       "    </tr>\n",
       "    <tr>\n",
       "      <th>...</th>\n",
       "      <td>...</td>\n",
       "      <td>...</td>\n",
       "      <td>...</td>\n",
       "    </tr>\n",
       "    <tr>\n",
       "      <th>152</th>\n",
       "      <td>CITY VIBE</td>\n",
       "      <td>1.3142420326981248</td>\n",
       "      <td>103.76527744903247</td>\n",
       "    </tr>\n",
       "    <tr>\n",
       "      <th>153</th>\n",
       "      <td>SHAW HOUSE AND CENTRE</td>\n",
       "      <td>1.3063028918746467</td>\n",
       "      <td>103.83184664246109</td>\n",
       "    </tr>\n",
       "    <tr>\n",
       "      <th>154</th>\n",
       "      <td>MANDARIN GALLERY</td>\n",
       "      <td>1.302089565417662</td>\n",
       "      <td>103.83634054158641</td>\n",
       "    </tr>\n",
       "    <tr>\n",
       "      <th>155</th>\n",
       "      <td>CHANGE ALLEY</td>\n",
       "      <td>1.2844197208580772</td>\n",
       "      <td>103.8518214747385</td>\n",
       "    </tr>\n",
       "    <tr>\n",
       "      <th>156</th>\n",
       "      <td>CLARKE QUAY CENTRAL</td>\n",
       "      <td>1.2890266594142623</td>\n",
       "      <td>103.84660800577113</td>\n",
       "    </tr>\n",
       "  </tbody>\n",
       "</table>\n",
       "<p>157 rows × 3 columns</p>\n",
       "</div>"
      ],
      "text/plain": [
       "                           name            latitude           longitude\n",
       "0           HARBOURFRONT CENTRE    1.26206336410344    103.818732564507\n",
       "1               NORTHPOINT CITY    1.42822560922688    103.836419992398\n",
       "2              SUNTEC CITY MALL    1.29350132535558    103.857307495824\n",
       "3    CATHAY CINELEISURE ORCHARD    1.30146393496315    103.836463810773\n",
       "4                HEARTLAND MALL    1.35954177325561    103.885167372726\n",
       "..                          ...                 ...                 ...\n",
       "152                   CITY VIBE  1.3142420326981248  103.76527744903247\n",
       "153       SHAW HOUSE AND CENTRE  1.3063028918746467  103.83184664246109\n",
       "154            MANDARIN GALLERY   1.302089565417662  103.83634054158641\n",
       "155                CHANGE ALLEY  1.2844197208580772   103.8518214747385\n",
       "156         CLARKE QUAY CENTRAL  1.2890266594142623  103.84660800577113\n",
       "\n",
       "[157 rows x 3 columns]"
      ]
     },
     "execution_count": 277,
     "metadata": {},
     "output_type": "execute_result"
    }
   ],
   "source": [
    "df_malls"
   ]
  }
 ],
 "metadata": {
  "kernelspec": {
   "display_name": "Python 3 (ipykernel)",
   "language": "python",
   "name": "python3"
  },
  "language_info": {
   "codemirror_mode": {
    "name": "ipython",
    "version": 3
   },
   "file_extension": ".py",
   "mimetype": "text/x-python",
   "name": "python",
   "nbconvert_exporter": "python",
   "pygments_lexer": "ipython3",
   "version": "3.11.5"
  }
 },
 "nbformat": 4,
 "nbformat_minor": 4
}
